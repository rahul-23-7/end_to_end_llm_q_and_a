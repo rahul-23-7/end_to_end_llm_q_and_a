{
 "cells": [
  {
   "cell_type": "code",
   "execution_count": 1,
   "metadata": {},
   "outputs": [],
   "source": [
    "from langchain.llms import OpenAI"
   ]
  },
  {
   "cell_type": "code",
   "execution_count": 2,
   "metadata": {},
   "outputs": [],
   "source": [
    "import os \n",
    "os.environ[\"OPENAI_API_KEY\"]=\"sh-SdFOSWYfLyYweLXB4uu7T3BlbkFJtY2XYzNFTBUfGf6Z0000\""
   ]
  },
  {
   "cell_type": "code",
   "execution_count": 3,
   "metadata": {},
   "outputs": [],
   "source": [
    "llm=OpenAI(temperature=0.6)"
   ]
  },
  {
   "cell_type": "code",
   "execution_count": 4,
   "metadata": {},
   "outputs": [
    {
     "name": "stdout",
     "output_type": "stream",
     "text": [
      "\n",
      "\n",
      "The capital of England is London.\n"
     ]
    }
   ],
   "source": [
    "text=\"What is the capital of England\"\n",
    "print(llm.predict(text))"
   ]
  },
  {
   "cell_type": "code",
   "execution_count": 5,
   "metadata": {},
   "outputs": [],
   "source": [
    "os.environ[\"HUGGINGFACEHUB_API_TOKEN\"]=\"hf_vryLwlkxIojKwWHhXEJaDCtSz\"\n"
   ]
  },
  {
   "cell_type": "code",
   "execution_count": 6,
   "metadata": {},
   "outputs": [
    {
     "name": "stderr",
     "output_type": "stream",
     "text": [
      "c:\\Users\\rahul\\End to End LLM Langchain Project\\langenv\\lib\\site-packages\\tqdm\\auto.py:21: TqdmWarning: IProgress not found. Please update jupyter and ipywidgets. See https://ipywidgets.readthedocs.io/en/stable/user_install.html\n",
      "  from .autonotebook import tqdm as notebook_tqdm\n",
      "c:\\Users\\rahul\\End to End LLM Langchain Project\\langenv\\lib\\site-packages\\huggingface_hub\\utils\\_deprecation.py:131: FutureWarning: 'InferenceApi' (from 'huggingface_hub.inference_api') is deprecated and will be removed from version '1.0'. `InferenceApi` client is deprecated in favor of the more feature-complete `InferenceClient`. Check out this guide to learn how to convert your script to use it: https://huggingface.co/docs/huggingface_hub/guides/inference#legacy-inferenceapi-client.\n",
      "  warnings.warn(warning_message, FutureWarning)\n"
     ]
    }
   ],
   "source": [
    "from langchain import HuggingFaceHub\n",
    "llm_huggingface=HuggingFaceHub(repo_id=\"google/flan-t5-large\",model_kwargs={\"temperature\":0,\"max_length\":64})"
   ]
  },
  {
   "cell_type": "code",
   "execution_count": 7,
   "metadata": {},
   "outputs": [
    {
     "name": "stdout",
     "output_type": "stream",
     "text": [
      "Warsaw\n"
     ]
    }
   ],
   "source": [
    "output=llm_huggingface.predict(\"Can you tell me the capital of poland\")\n",
    "print(output)"
   ]
  },
  {
   "cell_type": "code",
   "execution_count": 8,
   "metadata": {},
   "outputs": [
    {
     "data": {
      "text/plain": [
       "'Tell me the capital of India'"
      ]
     },
     "execution_count": 8,
     "metadata": {},
     "output_type": "execute_result"
    }
   ],
   "source": [
    "from langchain.prompts import PromptTemplate\n",
    "prompt_template=PromptTemplate(input_variables=['country'],\n",
    "                               template=\"Tell me the capital of {country}\")\n",
    "\n",
    "prompt_template.format(country=\"India\")"
   ]
  },
  {
   "cell_type": "code",
   "execution_count": 9,
   "metadata": {},
   "outputs": [
    {
     "name": "stdout",
     "output_type": "stream",
     "text": [
      "\n",
      "\n",
      "The capital of Sweden is Stockholm.\n"
     ]
    }
   ],
   "source": [
    "from langchain.chains import LLMChain\n",
    "chain=LLMChain(llm=llm,prompt=prompt_template)\n",
    "print(chain.run(\"Sweden\"))"
   ]
  },
  {
   "cell_type": "markdown",
   "metadata": {},
   "source": [
    "## Combining Multiple Chains using Simple Sequential Chain"
   ]
  },
  {
   "cell_type": "code",
   "execution_count": 10,
   "metadata": {},
   "outputs": [],
   "source": [
    "capital_prompt=PromptTemplate(input_variables=['country'],\n",
    "                              template=\"What is the capital of {country}\")\n",
    "capital_chain=LLMChain(llm=llm,prompt=capital_prompt)\n",
    "\n",
    "famous_template=PromptTemplate(input_variables=['capital'],\n",
    "                               template=\"Tell me about some of the popular places to visit in {capital}\")\n",
    "famous_chain=LLMChain(llm=llm,prompt=famous_template)\n"
   ]
  },
  {
   "cell_type": "markdown",
   "metadata": {},
   "source": [
    "## Constructing the LLM Chain"
   ]
  },
  {
   "cell_type": "code",
   "execution_count": 11,
   "metadata": {},
   "outputs": [
    {
     "data": {
      "text/plain": [
       "\" It is a bustling city with a rich history and a diverse culture. There are many popular places to visit in London, including:\\n\\n1. Buckingham Palace - The official residence of the British monarch, this iconic palace is a must-see for visitors. You can take a tour of the State Rooms and see the famous Changing of the Guard ceremony.\\n\\n2. Big Ben and the Houses of Parliament - Located on the banks of the River Thames, these historic buildings are a symbol of London and its political history.\\n\\n3. The London Eye - This giant Ferris wheel offers stunning views of the city skyline and is a popular attraction for tourists.\\n\\n4. Tower of London - This medieval castle has served as a royal palace, prison, and execution site. Visitors can see the Crown Jewels and explore the tower's dark history.\\n\\n5. The British Museum - One of the world's largest and most comprehensive museums, it houses a vast collection of artifacts from around the world, including the famous Rosetta Stone.\\n\\n6. Hyde Park - This large park in the heart of London is a peaceful oasis amidst the bustling city. It is a popular spot for picnics, walks, and outdoor activities.\\n\\n7. Westminster Abbey - This magnificent church has been the site of coronations, royal weddings\""
      ]
     },
     "execution_count": 11,
     "metadata": {},
     "output_type": "execute_result"
    }
   ],
   "source": [
    "from langchain.chains import SimpleSequentialChain\n",
    "chain=SimpleSequentialChain(chains=[capital_chain,famous_chain])\n",
    "chain.run(\"England\")"
   ]
  },
  {
   "cell_type": "markdown",
   "metadata": {},
   "source": [
    "## Sequential Chain"
   ]
  },
  {
   "cell_type": "code",
   "execution_count": 12,
   "metadata": {},
   "outputs": [],
   "source": [
    "capital_prompt=PromptTemplate(input_variables=['country'],\n",
    "                              template=\"What is the capital of {country}\")\n",
    "capital_chain=LLMChain(llm=llm,prompt=capital_prompt,output_key=\"capital\")"
   ]
  },
  {
   "cell_type": "code",
   "execution_count": 13,
   "metadata": {},
   "outputs": [],
   "source": [
    "famous_template=PromptTemplate(input_variables=['capital'],\n",
    "                               template=\"Tell me about some of the popular places to visit in {capital}\")\n",
    "famous_chain=LLMChain(llm=llm,prompt=famous_template,output_key=\"places\")"
   ]
  },
  {
   "cell_type": "code",
   "execution_count": 14,
   "metadata": {},
   "outputs": [],
   "source": [
    "from langchain.chains import SequentialChain"
   ]
  },
  {
   "cell_type": "code",
   "execution_count": 15,
   "metadata": {},
   "outputs": [
    {
     "data": {
      "text/plain": [
       "{'country': 'Italy',\n",
       " 'capital': '\\n\\nThe capital of Italy is Rome.',\n",
       " 'places': \" \\n\\nSome popular places to visit in Rome include the Colosseum, an ancient Roman amphitheater that is a symbol of the city's rich history; the Vatican City, the headquarters of the Roman Catholic Church and home to famous landmarks such as St. Peter's Basilica and the Sistine Chapel; the Pantheon, a well-preserved ancient temple dedicated to the Roman gods; and the Trevi Fountain, a stunning Baroque fountain where visitors can toss a coin and make a wish.\\n\\nOther popular places in Italy include Florence, known for its Renaissance art and architecture, including the famous Duomo cathedral and the Uffizi Gallery; Venice, a beautiful city built on water with iconic landmarks such as St. Mark's Basilica and the Grand Canal; and the Amalfi Coast, a stunning stretch of coastline dotted with picturesque towns and villages.\\n\\nIn northern Italy, the city of Milan is a popular destination for fashion and design enthusiasts, with its famous shopping district and iconic landmarks such as the Duomo di Milano and the Sforza Castle. The city of Verona, known as the setting of Shakespeare's Romeo and Juliet, also attracts many visitors with its charming old town and ancient Roman ruins.\\n\\nIn southern Italy, the city of Naples is a popular destination for\"}"
      ]
     },
     "execution_count": 15,
     "metadata": {},
     "output_type": "execute_result"
    }
   ],
   "source": [
    "chain=SequentialChain(chains=[capital_chain,famous_chain],\n",
    "                      input_variables=['country'],\n",
    "                      output_variables=['capital','places'])\n",
    "chain({'country':'Italy'})\n"
   ]
  },
  {
   "cell_type": "markdown",
   "metadata": {},
   "source": [
    "## Using Langchain and Prompt Chains to extract most common disease of the Liver with its ICD 10 code"
   ]
  },
  {
   "cell_type": "code",
   "execution_count": 16,
   "metadata": {},
   "outputs": [],
   "source": [
    "disease_prompt=PromptTemplate(input_variables=['organ'],\n",
    "                              template=\"What is the most common disease of the {organ}\")\n",
    "disease_chain=LLMChain(llm=llm,prompt=disease_prompt,output_key=\"disease\")"
   ]
  },
  {
   "cell_type": "code",
   "execution_count": 17,
   "metadata": {},
   "outputs": [],
   "source": [
    "icd_template=PromptTemplate(input_variables=['disease'],\n",
    "                               template=\"ICD 10 code of the {disease}\")\n",
    "icd_chain=LLMChain(llm=llm,prompt=icd_template,output_key=\"icd 10 code\")"
   ]
  },
  {
   "cell_type": "code",
   "execution_count": 18,
   "metadata": {},
   "outputs": [],
   "source": [
    "from langchain.chains import SequentialChain\n",
    "chain=SequentialChain(chains=[disease_chain,icd_chain],\n",
    "                      input_variables=['organ'],\n",
    "                      output_variables=['disease','icd 10 code'])\n",
    "a=chain({'organ':'liver'})"
   ]
  },
  {
   "cell_type": "markdown",
   "metadata": {},
   "source": [
    "## Using Regex to extract the ICD 10 Codes for the Disease"
   ]
  },
  {
   "cell_type": "code",
   "execution_count": 19,
   "metadata": {},
   "outputs": [
    {
     "name": "stdout",
     "output_type": "stream",
     "text": [
      "ICD-10 Codes for the most common Liver disease: ['K76.0', 'B18', 'K70', 'K74', 'C22']\n"
     ]
    }
   ],
   "source": [
    "import re\n",
    "\n",
    "def extract_icd10_codes(text):\n",
    "    # ICD-10 codes pattern: Letter followed by two digits, and an optional dot with up to 4 alphanumeric characters\n",
    "    pattern = r'\\b[A-Z][0-9]{2}(?:\\.[A-Z0-9]{1,4})?\\b'\n",
    "    \n",
    "    # Find all matches in the text\n",
    "    matches = re.findall(pattern, text)\n",
    "    \n",
    "    return matches\n",
    "\n",
    "codes = extract_icd10_codes(a['icd 10 code'])\n",
    "print(\"ICD-10 Codes for the most common Liver disease:\", codes)"
   ]
  },
  {
   "cell_type": "markdown",
   "metadata": {},
   "source": [
    "## Chat Models with Chat OpenAI"
   ]
  },
  {
   "cell_type": "code",
   "execution_count": 20,
   "metadata": {},
   "outputs": [],
   "source": [
    "from langchain.chat_models import ChatOpenAI"
   ]
  },
  {
   "cell_type": "code",
   "execution_count": 21,
   "metadata": {},
   "outputs": [],
   "source": [
    "from langchain.schema import HumanMessage,SystemMessage,AIMessage"
   ]
  },
  {
   "cell_type": "code",
   "execution_count": 22,
   "metadata": {},
   "outputs": [],
   "source": [
    "chat_llm=ChatOpenAI(temperature=0.6,model='gpt-3.5-turbo')"
   ]
  },
  {
   "cell_type": "code",
   "execution_count": 23,
   "metadata": {},
   "outputs": [
    {
     "data": {
      "text/plain": [
       "AIMessage(content=\"I'm not a doctor, but I can provide some general advice on managing liver cirrhosis. It's important to consult with a healthcare professional for personalized guidance. Here are a few tips:\\n\\n1. Medication management: Follow your doctor's prescribed medications strictly, including those for underlying conditions like hepatitis B or C, and avoid medications that may harm the liver, such as certain painkillers or sedatives.\\n\\n2. Maintain a healthy diet: Consume a well-balanced diet low in sodium, fat, and refined sugars. Focus on fresh fruits, vegetables, whole grains, lean proteins, and healthy fats. Limit alcohol consumption or avoid it completely, as it can worsen liver damage.\\n\\n3. Manage fluid retention: Limit your sodium intake to help reduce fluid retention. Your doctor may also recommend diuretic medications to help remove excess fluid from the body.\\n\\n4. Vaccinations: Ensure you are up to date on vaccinations, especially for hepatitis A and B, as these infections can further damage the liver.\\n\\n5. Regular medical check-ups: Schedule regular visits with your healthcare provider to monitor your liver function, manage complications, and adjust treatment plans if necessary.\\n\\n6. Avoid liver toxins: Stay away from substances that can cause liver damage, such as illicit drugs, certain chemicals, and excessive alcohol consumption.\\n\\n7. Emotional support: Seek emotional support from friends, family, or support groups to help cope with the challenges of living with liver cirrhosis.\\n\\nRemember, each person's situation is unique, so it's crucial to work closely with your healthcare team to develop an individualized management plan.\")"
      ]
     },
     "execution_count": 23,
     "metadata": {},
     "output_type": "execute_result"
    }
   ],
   "source": [
    "chat_llm([\n",
    "    SystemMessage(content=\"You are a Medical AI assistant\"),\n",
    "    HumanMessage(content=\"Please give some advice on management of Liver Cirrhosis\")\n",
    "])"
   ]
  },
  {
   "cell_type": "markdown",
   "metadata": {},
   "source": [
    "## Prompt Template + LLM + Output Parsers"
   ]
  },
  {
   "cell_type": "code",
   "execution_count": 58,
   "metadata": {},
   "outputs": [],
   "source": [
    "from langchain.chat_models import ChatOpenAI\n",
    "from langchain.prompts.chat import ChatPromptTemplate\n",
    "from langchain.schema import BaseOutputParser "
   ]
  },
  {
   "cell_type": "code",
   "execution_count": 59,
   "metadata": {},
   "outputs": [],
   "source": [
    "class Commaseperatedoutput(BaseOutputParser):\n",
    "    def parse(self,text:str):\n",
    "        return text.strip().split(\"\\n\")[1:]"
   ]
  },
  {
   "cell_type": "code",
   "execution_count": 60,
   "metadata": {},
   "outputs": [],
   "source": [
    "template=\"You are a helpful medical assistant.When a user gives an input of a disease, generate the names of 5 drugs used to treat the disease in a comma seperated list.\"\n",
    "human_template=\"{disease}\"\n",
    "chatprompt=ChatPromptTemplate.from_messages([\n",
    "    (\"system\",template),\n",
    "    (\"human\",human_template)\n",
    "])"
   ]
  },
  {
   "cell_type": "code",
   "execution_count": 61,
   "metadata": {},
   "outputs": [],
   "source": [
    "chain=chatprompt|chat_llm|Commaseperatedoutput()"
   ]
  },
  {
   "cell_type": "code",
   "execution_count": 63,
   "metadata": {},
   "outputs": [
    {
     "data": {
      "text/plain": [
       "['1. Ursodiol',\n",
       " '2. Lactulose',\n",
       " '3. Spironolactone',\n",
       " '4. Furosemide',\n",
       " '5. Propranolol']"
      ]
     },
     "execution_count": 63,
     "metadata": {},
     "output_type": "execute_result"
    }
   ],
   "source": [
    "chain.invoke({\"disease\":\"cirrhosis\"})"
   ]
  }
 ],
 "metadata": {
  "kernelspec": {
   "display_name": "Python 3",
   "language": "python",
   "name": "python3"
  },
  "language_info": {
   "codemirror_mode": {
    "name": "ipython",
    "version": 3
   },
   "file_extension": ".py",
   "mimetype": "text/x-python",
   "name": "python",
   "nbconvert_exporter": "python",
   "pygments_lexer": "ipython3",
   "version": "3.9.18"
  }
 },
 "nbformat": 4,
 "nbformat_minor": 2
}
